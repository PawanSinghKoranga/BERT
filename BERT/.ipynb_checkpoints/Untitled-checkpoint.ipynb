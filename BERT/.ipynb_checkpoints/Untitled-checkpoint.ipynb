{
 "cells": [
  {
   "cell_type": "code",
   "execution_count": 1,
   "id": "170abfcd",
   "metadata": {},
   "outputs": [
    {
     "name": "stdout",
     "output_type": "stream",
     "text": [
      "   label                                       text\n",
      "0      0              भीड़ में  बहुत  हब्सी मिलेंगे\n",
      "1      0  साले बेवकूफ अपनी मां मक्खियां  तो हटा दें\n",
      "2      0           बुर देदो तो मुह में लंड ले लो तो\n",
      "3      0       कुत्ता वहा है चिल्ला तू क्यों रहा है\n",
      "4      1  चाय नहीं पीता हूं मैं इसी को छोड़ दिया ok\n",
      "        text                                                       \n",
      "       count unique                                        top freq\n",
      "label                                                              \n",
      "0      10527  10527              भीड़ में  बहुत  हब्सी मिलेंगे    1\n",
      "1       9656   9656  चाय नहीं पीता हूं मैं इसी को छोड़ दिया ok    1\n",
      "   label                                               text  abuse\n",
      "0      0                      भीड़ में  बहुत  हब्सी मिलेंगे      0\n",
      "1      0          साले बेवकूफ अपनी मां मक्खियां  तो हटा दें      0\n",
      "2      0                   बुर देदो तो मुह में लंड ले लो तो      0\n",
      "3      0               कुत्ता वहा है चिल्ला तू क्यों रहा है      0\n",
      "4      1          चाय नहीं पीता हूं मैं इसी को छोड़ दिया ok      1\n",
      "5      0  बैंकों से सरकार का रिश्ता दलाली का है, बड़े बड...      0\n",
      "6      0  #पगली 😍 हम तो #बहोत 😎 _शोकीन हैं 👸👈 #तुजे डोली...      0\n",
      "7      0  ohh my god . यहां इतने सारे चमचे इसका मतलब जलन...      0\n",
      "8      1        आप मेरे कमेंट का इतना  इंतजार क्यों करते है      1\n",
      "9      0                              भोसड़ी को बात करने दो      0\n",
      "5211                                मेरा id चालू हो गया है\n",
      "3223                      चुतीया होता है वो जो ईए वो लतलोग\n",
      "17241    102पुल में विदेशी पुल कितने।  और कितने रेलवे स...\n",
      "6717     राज ने मिताली को छोड दिया फिर भी उससे पियार कर...\n",
      "Name: text, dtype: object\n",
      "Model: \"model\"\n",
      "__________________________________________________________________________________________________\n",
      " Layer (type)                   Output Shape         Param #     Connected to                     \n",
      "==================================================================================================\n",
      " text (InputLayer)              [(None,)]            0           []                               \n",
      "                                                                                                  \n",
      " keras_layer (KerasLayer)       {'input_word_ids':   0           ['text[0][0]']                   \n",
      "                                (None, 128),                                                      \n",
      "                                 'input_mask': (Non                                               \n",
      "                                e, 128),                                                          \n",
      "                                 'input_type_ids':                                                \n",
      "                                (None, 128)}                                                      \n",
      "                                                                                                  \n",
      " keras_layer_1 (KerasLayer)     {'encoder_outputs':  505907201   ['keras_layer[0][0]',            \n",
      "                                 [(None, 128, 1024)               'keras_layer[0][1]',            \n",
      "                                , (None, 128, 1024)               'keras_layer[0][2]']            \n",
      "                                , (None, 128, 1024)                                               \n",
      "                                , (None, 128, 1024)                                               \n",
      "                                , (None, 128, 1024)                                               \n",
      "                                , (None, 128, 1024)                                               \n",
      "                                , (None, 128, 1024)                                               \n",
      "                                , (None, 128, 1024)                                               \n",
      "                                , (None, 128, 1024)                                               \n",
      "                                , (None, 128, 1024)                                               \n",
      "                                , (None, 128, 1024)                                               \n",
      "                                , (None, 128, 1024)                                               \n",
      "                                , (None, 128, 1024)                                               \n",
      "                                , (None, 128, 1024)                                               \n",
      "                                , (None, 128, 1024)                                               \n",
      "                                , (None, 128, 1024)                                               \n",
      "                                , (None, 128, 1024)                                               \n",
      "                                , (None, 128, 1024)                                               \n",
      "                                , (None, 128, 1024)                                               \n",
      "                                , (None, 128, 1024)                                               \n",
      "                                , (None, 128, 1024)                                               \n",
      "                                , (None, 128, 1024)                                               \n",
      "                                , (None, 128, 1024)                                               \n",
      "                                , (None, 128, 1024)                                               \n",
      "                                ],                                                                \n",
      "                                 'pooled_output': (                                               \n",
      "                                None, 1024),                                                      \n",
      "                                 'sequence_output':                                               \n",
      "                                 (None, 128, 1024),                                               \n",
      "                                 'default': (None,                                                \n",
      "                                1024)}                                                            \n",
      "                                                                                                  \n",
      " dropout (Dropout)              (None, 1024)         0           ['keras_layer_1[0][25]']         \n",
      "                                                                                                  \n",
      " output (Dense)                 (None, 1)            1025        ['dropout[0][0]']                \n",
      "                                                                                                  \n",
      "==================================================================================================\n",
      "Total params: 505,908,226\n",
      "Trainable params: 1,025\n",
      "Non-trainable params: 505,907,201\n",
      "__________________________________________________________________________________________________\n",
      "None\n",
      "15137\n",
      "Epoch 1/2\n",
      "474/474 [==============================] - 12934s 27s/step - loss: 0.5572 - accuracy: 0.7087\n",
      "Epoch 2/2\n",
      "474/474 [==============================] - 82490s 174s/step - loss: 0.4757 - accuracy: 0.7669\n",
      "158/158 [==============================] - 3944s 25s/step - loss: 0.4524 - accuracy: 0.7866\n",
      "1/1 [==============================] - 7s 7s/step\n",
      "[[0.883282  ]\n",
      " [0.11233513]\n",
      " [0.11178539]\n",
      " [0.484107  ]\n",
      " [0.1167829 ]]\n"
     ]
    }
   ],
   "source": [
    "import tensorflow as tf\n",
    "import tensorflow_hub as hub\n",
    "import tensorflow_text as text\n",
    "\n",
    "import pandas as pd \n",
    "df = pd.read_csv(\"hindi_train_val_utf.csv\",encoding = \"UTF-8\")\n",
    "# print(df.to_string()) \n",
    "print(df.head(5))\n",
    "print(df.groupby('label').describe())\n",
    "df['abuse']=df['label'].apply(lambda x: 1 if x==1 else 0)\n",
    "print(df.head(10))\n",
    "\n",
    "from sklearn.model_selection import train_test_split\n",
    "\n",
    "X_train, X_test, y_train, y_test = train_test_split(df['text'],df['abuse'], stratify=df['abuse'])\n",
    "\n",
    "print(X_train.head(4))\n",
    "\n",
    "bert_pre_process = hub.KerasLayer(\"https://tfhub.dev/google/MuRIL_preprocess/1\")\n",
    "bert_en_coder = hub.KerasLayer(\"https://tfhub.dev/google/MuRIL-Large/1\")\n",
    "\n",
    "def get_sentence_embeding(sentences):\n",
    "    preprocessed_text = bert_pre_process(sentences)\n",
    "    return bert_en_coder(preprocessed_text)['pooled_output']\n",
    "\n",
    "# print(get_sentence_embeding([\n",
    "#     \"500$ discount. hurry up\", \n",
    "#     \"Bhavin, are you up for a volleybal game tomorrow?\"]\n",
    "# ))\n",
    "\n",
    "# e = get_sentence_embeding([\n",
    "#     \"banana\", \n",
    "#     \"grapes\",\n",
    "#     \"mango\",\n",
    "#     \"jeff bezos\",\n",
    "#     \"elon musk\",\n",
    "#     \"bill gates\"\n",
    "# ]\n",
    "# )\n",
    "\n",
    "from sklearn.metrics.pairwise import cosine_similarity\n",
    "# print(cosine_similarity([e[0]],[e[1]]))\n",
    "\n",
    "# Bert layers\n",
    "text_input = tf.keras.layers.Input(shape=(), dtype=tf.string, name='text')\n",
    "preprocessed_text = bert_pre_process(text_input)\n",
    "outputs = bert_en_coder(preprocessed_text)\n",
    "\n",
    "# Neural network layers\n",
    "l = tf.keras.layers.Dropout(0.2, name=\"dropout\")(outputs['pooled_output'])\n",
    "l = tf.keras.layers.Dense(1, activation='sigmoid', name=\"output\")(l)\n",
    "\n",
    "# Use inputs and outputs to construct a final model\n",
    "model = tf.keras.Model(inputs=[text_input], outputs = [l])\n",
    "\n",
    "print(model.summary())\n",
    "\n",
    "print(len(X_train))\n",
    "model.compile(optimizer='adam',\n",
    "              loss='binary_crossentropy',\n",
    "              metrics=['accuracy'])\n",
    "model.fit(X_train, y_train, epochs=2)\n",
    "model.evaluate(X_test, y_test)\n",
    "reviews = [\n",
    "    'पिया पिया ओह पिया',\n",
    "    'तू मादरचोद हे ',\n",
    "    'तेरी माँ सोती हे मेरे साथ ',\n",
    "    'आजा मजे करते हे',\n",
    "    \"सो लौड़े हे\"\n",
    "]\n",
    "print(model.predict(reviews))\n",
    "\n",
    "\n",
    "\n",
    "\n"
   ]
  },
  {
   "cell_type": "code",
   "execution_count": 3,
   "id": "da9eab19",
   "metadata": {},
   "outputs": [
    {
     "name": "stdout",
     "output_type": "stream",
     "text": [
      "hellow\n"
     ]
    }
   ],
   "source": [
    "print(\"hellow\")"
   ]
  },
  {
   "cell_type": "code",
   "execution_count": 6,
   "id": "9bbebce1",
   "metadata": {},
   "outputs": [
    {
     "name": "stdout",
     "output_type": "stream",
     "text": [
      "1/1 [==============================] - 1s 666ms/step\n",
      "[[0.20577273]]\n"
     ]
    }
   ],
   "source": [
    "print(model.predict(['मुल्लो को मार डालो']))"
   ]
  },
  {
   "cell_type": "code",
   "execution_count": 7,
   "id": "7220c56e",
   "metadata": {},
   "outputs": [
    {
     "name": "stdout",
     "output_type": "stream",
     "text": [
      "1/1 [==============================] - 6s 6s/step\n",
      "[[0.20577273]]\n"
     ]
    }
   ],
   "source": [
    "print(model.predict(['मुल्लो को मार डालो']))"
   ]
  },
  {
   "cell_type": "code",
   "execution_count": 8,
   "id": "420ccde5",
   "metadata": {},
   "outputs": [
    {
     "name": "stdout",
     "output_type": "stream",
     "text": [
      "1/1 [==============================] - 2s 2s/step\n",
      "[[0.6448112]]\n"
     ]
    }
   ],
   "source": [
    "print(model.predict(['डालो']))"
   ]
  },
  {
   "cell_type": "code",
   "execution_count": 17,
   "id": "d748fa99",
   "metadata": {},
   "outputs": [
    {
     "name": "stdout",
     "output_type": "stream",
     "text": [
      "1/1 [==============================] - 8s 8s/step\n",
      "[[0.6448112]]\n"
     ]
    }
   ],
   "source": [
    "print(model.predict(['डालो']))"
   ]
  },
  {
   "cell_type": "code",
   "execution_count": null,
   "id": "296e379e",
   "metadata": {},
   "outputs": [],
   "source": []
  }
 ],
 "metadata": {
  "kernelspec": {
   "display_name": "Python 3 (ipykernel)",
   "language": "python",
   "name": "python3"
  },
  "language_info": {
   "codemirror_mode": {
    "name": "ipython",
    "version": 3
   },
   "file_extension": ".py",
   "mimetype": "text/x-python",
   "name": "python",
   "nbconvert_exporter": "python",
   "pygments_lexer": "ipython3",
   "version": "3.10.9"
  }
 },
 "nbformat": 4,
 "nbformat_minor": 5
}
