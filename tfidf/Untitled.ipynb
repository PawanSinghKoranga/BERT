{
 "cells": [
  {
   "cell_type": "code",
   "execution_count": 1,
   "id": "c312cf7a",
   "metadata": {},
   "outputs": [],
   "source": [
    "from sklearn.feature_extraction.text import TfidfVectorizer\n",
    "\n"
   ]
  },
  {
   "cell_type": "code",
   "execution_count": null,
   "id": "9f483363",
   "metadata": {},
   "outputs": [],
   "source": []
  },
  {
   "cell_type": "code",
   "execution_count": null,
   "id": "b5732983",
   "metadata": {},
   "outputs": [],
   "source": []
  },
  {
   "cell_type": "code",
   "execution_count": null,
   "id": "79fa134a",
   "metadata": {},
   "outputs": [],
   "source": [
    "\n",
    "    "
   ]
  },
  {
   "cell_type": "code",
   "execution_count": null,
   "id": "65eb111f",
   "metadata": {},
   "outputs": [],
   "source": []
  },
  {
   "cell_type": "code",
   "execution_count": 2,
   "id": "27e244fa",
   "metadata": {},
   "outputs": [
    {
     "name": "stdout",
     "output_type": "stream",
     "text": [
      "(20183, 2)\n"
     ]
    },
    {
     "data": {
      "text/html": [
       "<div>\n",
       "<style scoped>\n",
       "    .dataframe tbody tr th:only-of-type {\n",
       "        vertical-align: middle;\n",
       "    }\n",
       "\n",
       "    .dataframe tbody tr th {\n",
       "        vertical-align: top;\n",
       "    }\n",
       "\n",
       "    .dataframe thead th {\n",
       "        text-align: right;\n",
       "    }\n",
       "</style>\n",
       "<table border=\"1\" class=\"dataframe\">\n",
       "  <thead>\n",
       "    <tr style=\"text-align: right;\">\n",
       "      <th></th>\n",
       "      <th>label</th>\n",
       "      <th>text</th>\n",
       "    </tr>\n",
       "  </thead>\n",
       "  <tbody>\n",
       "    <tr>\n",
       "      <th>0</th>\n",
       "      <td>0</td>\n",
       "      <td>भीड़ में  बहुत  हब्सी मिलेंगे</td>\n",
       "    </tr>\n",
       "    <tr>\n",
       "      <th>1</th>\n",
       "      <td>0</td>\n",
       "      <td>साले बेवकूफ अपनी मां मक्खियां  तो हटा दें</td>\n",
       "    </tr>\n",
       "    <tr>\n",
       "      <th>2</th>\n",
       "      <td>0</td>\n",
       "      <td>बुर देदो तो मुह में लंड ले लो तो</td>\n",
       "    </tr>\n",
       "    <tr>\n",
       "      <th>3</th>\n",
       "      <td>0</td>\n",
       "      <td>कुत्ता वहा है चिल्ला तू क्यों रहा है</td>\n",
       "    </tr>\n",
       "    <tr>\n",
       "      <th>4</th>\n",
       "      <td>1</td>\n",
       "      <td>चाय नहीं पीता हूं मैं इसी को छोड़ दिया ok</td>\n",
       "    </tr>\n",
       "  </tbody>\n",
       "</table>\n",
       "</div>"
      ],
      "text/plain": [
       "   label                                       text\n",
       "0      0              भीड़ में  बहुत  हब्सी मिलेंगे\n",
       "1      0  साले बेवकूफ अपनी मां मक्खियां  तो हटा दें\n",
       "2      0           बुर देदो तो मुह में लंड ले लो तो\n",
       "3      0       कुत्ता वहा है चिल्ला तू क्यों रहा है\n",
       "4      1  चाय नहीं पीता हूं मैं इसी को छोड़ दिया ok"
      ]
     },
     "execution_count": 2,
     "metadata": {},
     "output_type": "execute_result"
    }
   ],
   "source": [
    "import pandas as pd\n",
    "\n",
    "#read the data into a pandas dataframe\n",
    "df = pd.read_csv(\"hindi_train_val_utf.csv\",encoding = \"UTF-8\")\n",
    "print(df.shape)\n",
    "df.head(5)"
   ]
  },
  {
   "cell_type": "code",
   "execution_count": 3,
   "id": "224e7f7a",
   "metadata": {},
   "outputs": [
    {
     "data": {
      "text/plain": [
       "0    10527\n",
       "1     9656\n",
       "Name: label, dtype: int64"
      ]
     },
     "execution_count": 3,
     "metadata": {},
     "output_type": "execute_result"
    }
   ],
   "source": [
    "#check the distribution of labels \n",
    "df['label'].value_counts()"
   ]
  },
  {
   "cell_type": "code",
   "execution_count": 4,
   "id": "5b85ae72",
   "metadata": {},
   "outputs": [
    {
     "data": {
      "text/html": [
       "<div>\n",
       "<style scoped>\n",
       "    .dataframe tbody tr th:only-of-type {\n",
       "        vertical-align: middle;\n",
       "    }\n",
       "\n",
       "    .dataframe tbody tr th {\n",
       "        vertical-align: top;\n",
       "    }\n",
       "\n",
       "    .dataframe thead th {\n",
       "        text-align: right;\n",
       "    }\n",
       "</style>\n",
       "<table border=\"1\" class=\"dataframe\">\n",
       "  <thead>\n",
       "    <tr style=\"text-align: right;\">\n",
       "      <th></th>\n",
       "      <th>label</th>\n",
       "      <th>text</th>\n",
       "    </tr>\n",
       "  </thead>\n",
       "  <tbody>\n",
       "    <tr>\n",
       "      <th>0</th>\n",
       "      <td>0</td>\n",
       "      <td>भीड़ में  बहुत  हब्सी मिलेंगे</td>\n",
       "    </tr>\n",
       "    <tr>\n",
       "      <th>1</th>\n",
       "      <td>0</td>\n",
       "      <td>साले बेवकूफ अपनी मां मक्खियां  तो हटा दें</td>\n",
       "    </tr>\n",
       "    <tr>\n",
       "      <th>2</th>\n",
       "      <td>0</td>\n",
       "      <td>बुर देदो तो मुह में लंड ले लो तो</td>\n",
       "    </tr>\n",
       "    <tr>\n",
       "      <th>3</th>\n",
       "      <td>0</td>\n",
       "      <td>कुत्ता वहा है चिल्ला तू क्यों रहा है</td>\n",
       "    </tr>\n",
       "    <tr>\n",
       "      <th>4</th>\n",
       "      <td>1</td>\n",
       "      <td>चाय नहीं पीता हूं मैं इसी को छोड़ दिया ok</td>\n",
       "    </tr>\n",
       "  </tbody>\n",
       "</table>\n",
       "</div>"
      ],
      "text/plain": [
       "   label                                       text\n",
       "0      0              भीड़ में  बहुत  हब्सी मिलेंगे\n",
       "1      0  साले बेवकूफ अपनी मां मक्खियां  तो हटा दें\n",
       "2      0           बुर देदो तो मुह में लंड ले लो तो\n",
       "3      0       कुत्ता वहा है चिल्ला तू क्यों रहा है\n",
       "4      1  चाय नहीं पीता हूं मैं इसी को छोड़ दिया ok"
      ]
     },
     "execution_count": 4,
     "metadata": {},
     "output_type": "execute_result"
    }
   ],
   "source": [
    "# df['label_num'] = df['label'].map({\n",
    "#     'Household' : 0, \n",
    "#     'Books': 1, \n",
    "#     'Electronics': 2, \n",
    "#     'Clothing & Accessories': 3\n",
    "# })\n",
    "\n",
    "#checking the results \n",
    "df.head(5)"
   ]
  },
  {
   "cell_type": "code",
   "execution_count": 5,
   "id": "a7119874",
   "metadata": {},
   "outputs": [],
   "source": [
    "from sklearn.model_selection import train_test_split\n",
    "\n",
    "X_train, X_test, y_train, y_test = train_test_split(\n",
    "    df.text, \n",
    "    df.label, \n",
    "    test_size=0.2, # 20% samples will go to test dataset\n",
    "    random_state=2022,\n",
    "    stratify=df.label\n",
    ")\n",
    "\n",
    "\n",
    "\n",
    "# from sklearn.model_selection import train_test_split\n",
    "\n",
    "# X_train, X_test, y_train, y_test = train_test_split(\n",
    "#     df.Text, \n",
    "#     df.label_num, \n",
    "#     test_size=0.2, # 20% samples will go to test dataset\n",
    "#     random_state=2022,\n",
    "#     stratify=df.label_num\n",
    "# )"
   ]
  },
  {
   "cell_type": "code",
   "execution_count": 6,
   "id": "f784feb6",
   "metadata": {},
   "outputs": [
    {
     "name": "stdout",
     "output_type": "stream",
     "text": [
      "Shape of X_train:  (16146,)\n",
      "Shape of X_test:  (4037,)\n"
     ]
    }
   ],
   "source": [
    "print(\"Shape of X_train: \", X_train.shape)\n",
    "print(\"Shape of X_test: \", X_test.shape)"
   ]
  },
  {
   "cell_type": "code",
   "execution_count": 7,
   "id": "218d62bb",
   "metadata": {},
   "outputs": [
    {
     "data": {
      "text/plain": [
       "18373    घर मे गाय रखो उनकी सेवा करो दूध पीओ, गोबर से उ...\n",
       "7111     राकेश सरकार में नहीं हैं और न ही कोई प्रशासनिक...\n",
       "963      #मोहब्बत तो कर लूं #मैं_आप से मगर #मैङम,  हम #...\n",
       "4371     क्या बात है, कुत्ते को शेर की खाल पहना देने से...\n",
       "16455                            बूढ़े तुझे भी चैन नहीं है\n",
       "Name: text, dtype: object"
      ]
     },
     "execution_count": 7,
     "metadata": {},
     "output_type": "execute_result"
    }
   ],
   "source": [
    "X_train.head()"
   ]
  },
  {
   "cell_type": "code",
   "execution_count": 8,
   "id": "600588cc",
   "metadata": {},
   "outputs": [
    {
     "data": {
      "text/plain": [
       "0    8421\n",
       "1    7725\n",
       "Name: label, dtype: int64"
      ]
     },
     "execution_count": 8,
     "metadata": {},
     "output_type": "execute_result"
    }
   ],
   "source": [
    "y_train.value_counts()"
   ]
  },
  {
   "cell_type": "code",
   "execution_count": 9,
   "id": "6c10a36a",
   "metadata": {},
   "outputs": [
    {
     "data": {
      "text/plain": [
       "0    2106\n",
       "1    1931\n",
       "Name: label, dtype: int64"
      ]
     },
     "execution_count": 9,
     "metadata": {},
     "output_type": "execute_result"
    }
   ],
   "source": [
    "y_test.value_counts()"
   ]
  },
  {
   "cell_type": "code",
   "execution_count": 10,
   "id": "49581253",
   "metadata": {},
   "outputs": [
    {
     "name": "stdout",
     "output_type": "stream",
     "text": [
      "              precision    recall  f1-score   support\n",
      "\n",
      "           0       0.62      0.80      0.70      2106\n",
      "           1       0.68      0.46      0.55      1931\n",
      "\n",
      "    accuracy                           0.64      4037\n",
      "   macro avg       0.65      0.63      0.62      4037\n",
      "weighted avg       0.64      0.64      0.62      4037\n",
      "\n"
     ]
    }
   ],
   "source": [
    "from sklearn.neighbors import KNeighborsClassifier\n",
    "from sklearn.pipeline import Pipeline\n",
    "from sklearn.metrics import classification_report\n",
    "\n",
    "#1. create a pipeline object\n",
    "clf = Pipeline([\n",
    "     ('vectorizer_tfidf',TfidfVectorizer()),    \n",
    "     ('KNN', KNeighborsClassifier())         \n",
    "])\n",
    "\n",
    "#2. fit with X_train and y_train\n",
    "clf.fit(X_train, y_train)\n",
    "\n",
    "\n",
    "#3. get the predictions for X_test and store it in y_pred\n",
    "y_pred = clf.predict(X_test)\n",
    "\n",
    "\n",
    "#4. print the classfication report\n",
    "print(classification_report(y_test, y_pred))"
   ]
  },
  {
   "cell_type": "code",
   "execution_count": 11,
   "id": "ae82ce0c",
   "metadata": {},
   "outputs": [
    {
     "data": {
      "text/plain": [
       "8070                                 पेल दिया घोड़ी बना कर\n",
       "3031                                      गेल 14 चुप हो जा\n",
       "7800     रोती हुई आँखो मे इंतेज़ार होता है​; ​ना चाहते ...\n",
       "11404                                   याकी की ईमज ईसीआरम\n",
       "5806     अभी तो धुआँ आगे से निकल रहा है कुछ समय बाद पीछ...\n",
       "Name: text, dtype: object"
      ]
     },
     "execution_count": 11,
     "metadata": {},
     "output_type": "execute_result"
    }
   ],
   "source": [
    "X_test[:5]"
   ]
  },
  {
   "cell_type": "code",
   "execution_count": 12,
   "id": "a02ad681",
   "metadata": {},
   "outputs": [
    {
     "data": {
      "text/plain": [
       "8070     0\n",
       "3031     0\n",
       "7800     1\n",
       "11404    1\n",
       "5806     1\n",
       "Name: label, dtype: int64"
      ]
     },
     "execution_count": 12,
     "metadata": {},
     "output_type": "execute_result"
    }
   ],
   "source": [
    "y_test[:5]"
   ]
  },
  {
   "cell_type": "code",
   "execution_count": 13,
   "id": "58f8c39c",
   "metadata": {},
   "outputs": [
    {
     "data": {
      "text/plain": [
       "array([0, 0, 1, 1, 1], dtype=int64)"
      ]
     },
     "execution_count": 13,
     "metadata": {},
     "output_type": "execute_result"
    }
   ],
   "source": [
    "y_pred[:5]"
   ]
  },
  {
   "cell_type": "code",
   "execution_count": 14,
   "id": "15492750",
   "metadata": {},
   "outputs": [],
   "source": [
    "our_test_content=['बहनचोद हे तू ',\n",
    "    'तू मादरचोद हे ',\n",
    "    'तेरी माँ सोती हे मेरे साथ ',\n",
    "    'आजा मजे करते हे',\n",
    "    \"सो लौड़े हे\"]"
   ]
  },
  {
   "cell_type": "code",
   "execution_count": 15,
   "id": "e119a711",
   "metadata": {},
   "outputs": [],
   "source": [
    "y_pred = clf.predict(our_test_content)"
   ]
  },
  {
   "cell_type": "code",
   "execution_count": 16,
   "id": "5599cae2",
   "metadata": {},
   "outputs": [
    {
     "data": {
      "text/plain": [
       "array([0, 0, 0, 0, 0], dtype=int64)"
      ]
     },
     "execution_count": 16,
     "metadata": {},
     "output_type": "execute_result"
    }
   ],
   "source": [
    "y_pred[:]"
   ]
  },
  {
   "cell_type": "code",
   "execution_count": 17,
   "id": "9c91e4b9",
   "metadata": {},
   "outputs": [
    {
     "data": {
      "text/plain": [
       "array([0, 0, 0, 0, 0], dtype=int64)"
      ]
     },
     "execution_count": 17,
     "metadata": {},
     "output_type": "execute_result"
    }
   ],
   "source": [
    "y_pred[:]"
   ]
  },
  {
   "cell_type": "code",
   "execution_count": 21,
   "id": "826600d7",
   "metadata": {},
   "outputs": [],
   "source": [
    "import pickle\n",
    "with open('model_pickle','wb') as f:\n",
    "    pickle.dump(clf,f)"
   ]
  },
  {
   "cell_type": "code",
   "execution_count": null,
   "id": "ee3fac75",
   "metadata": {},
   "outputs": [],
   "source": []
  },
  {
   "cell_type": "code",
   "execution_count": null,
   "id": "bdd6556b",
   "metadata": {},
   "outputs": [],
   "source": []
  }
 ],
 "metadata": {
  "kernelspec": {
   "display_name": "Python 3 (ipykernel)",
   "language": "python",
   "name": "python3"
  },
  "language_info": {
   "codemirror_mode": {
    "name": "ipython",
    "version": 3
   },
   "file_extension": ".py",
   "mimetype": "text/x-python",
   "name": "python",
   "nbconvert_exporter": "python",
   "pygments_lexer": "ipython3",
   "version": "3.10.9"
  }
 },
 "nbformat": 4,
 "nbformat_minor": 5
}
